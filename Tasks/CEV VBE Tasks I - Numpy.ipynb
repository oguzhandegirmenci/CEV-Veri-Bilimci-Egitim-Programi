{
 "cells": [
  {
   "cell_type": "markdown",
   "metadata": {},
   "source": [
    "# CEV VBE Tasks I - Numpy"
   ]
  },
  {
   "cell_type": "code",
   "execution_count": 1,
   "metadata": {},
   "outputs": [],
   "source": [
    "import numpy as np\n",
    "import pandas as pd\n",
    "import matplotlib.pyplot as plt\n",
    "import seaborn; seaborn.set()"
   ]
  },
  {
   "cell_type": "markdown",
   "metadata": {},
   "source": [
    "**TASK-1A:** The sum of negative numbers with for and while loops For instance for the input -6 it should return -21\n"
   ]
  },
  {
   "cell_type": "code",
   "execution_count": 2,
   "metadata": {},
   "outputs": [
    {
     "name": "stdout",
     "output_type": "stream",
     "text": [
      "Sum of negative numbers up to the number you entered: -6\n",
      "Sum of the negative numbers up to 0 is: -21\n"
     ]
    }
   ],
   "source": [
    "num = int(input(\"Sum of negative numbers up to the number you entered: \"))\n",
    "result = 0\n",
    "\n",
    "while num < 0:\n",
    "    result += num\n",
    "    num += 1\n",
    "    \n",
    "print(\"Sum of the negative numbers up to\", num, \"is:\", result)"
   ]
  },
  {
   "cell_type": "markdown",
   "metadata": {},
   "source": [
    "**TASK-1B:** Write a function for calculating the factorial of a given number with a for loop. For instance 5! should be 120\n"
   ]
  },
  {
   "cell_type": "code",
   "execution_count": 3,
   "metadata": {},
   "outputs": [],
   "source": [
    "def factorial(num):\n",
    "    if num < 0:\n",
    "        return \"Factorial calculation is not possible for the number you entered.\"\n",
    "    elif num == 0:\n",
    "        return (\"The factorial of 0 is 1.\")\n",
    "    else:\n",
    "        factorial = 1\n",
    "        for i in range(1, num+1):\n",
    "            factorial *= i\n",
    "        return \"The factorial of {num} is {factorial}.\".format(num = num, factorial = factorial)"
   ]
  },
  {
   "cell_type": "code",
   "execution_count": 4,
   "metadata": {},
   "outputs": [
    {
     "name": "stdout",
     "output_type": "stream",
     "text": [
      "The factorial of 5 is 120.\n"
     ]
    }
   ],
   "source": [
    "# Test\n",
    "print(factorial(5))"
   ]
  },
  {
   "cell_type": "markdown",
   "metadata": {},
   "source": [
    "**TASK-1C:** Please provide an array of random integers that will be used for Sayısal Loto. There should be 8 columns and each column should contain 6 numbers. Please also remark on the potential problems that you might face and please discuss how you can provide a solution for this. The number should be between 1 and 49\n"
   ]
  },
  {
   "cell_type": "code",
   "execution_count": 5,
   "metadata": {},
   "outputs": [
    {
     "name": "stdout",
     "output_type": "stream",
     "text": [
      "[[48 29  9  5 39  6]\n",
      " [11 46 31 49 29 28]\n",
      " [19 12 32 10 21 17]\n",
      " [30 19 14 39 32 35]\n",
      " [26 28 45 29 40  7]\n",
      " [28 31  9 33 40 12]\n",
      " [ 7 44  2 10 13 16]\n",
      " [12 19 22 30 32 43]]\n"
     ]
    }
   ],
   "source": [
    "sayisal_loto = np.ones((8,6), dtype = int)\n",
    "\n",
    "nums = np.arange(1, 50)\n",
    "for i in range(0, 8):\n",
    "    sayisal_loto[i] = np.random.choice(nums, size=6, replace=False)\n",
    "    \n",
    "print(sayisal_loto)"
   ]
  },
  {
   "cell_type": "markdown",
   "metadata": {},
   "source": [
    "*The 6 numbers from 1-49 in the Sayısal Loto rows must be unique. So I made replace=False in np.random.choice so that the 6 numbers in each row are unique. However, since this uniqueness should be independent of other columns, I generated separate numbers for each row and placed them in the sayisal_loto array I created at first.*"
   ]
  },
  {
   "cell_type": "markdown",
   "metadata": {},
   "source": [
    "**TASK-1D:** Please provide a list of odd numbers from 1 to 100 that shall be in 5 rows and 10 columns.\n"
   ]
  },
  {
   "cell_type": "code",
   "execution_count": 6,
   "metadata": {},
   "outputs": [
    {
     "name": "stdout",
     "output_type": "stream",
     "text": [
      "[[ 1  3  5  7  9 11 13 15 17 19]\n",
      " [21 23 25 27 29 31 33 35 37 39]\n",
      " [41 43 45 47 49 51 53 55 57 59]\n",
      " [61 63 65 67 69 71 73 75 77 79]\n",
      " [81 83 85 87 89 91 93 95 97 99]]\n"
     ]
    }
   ],
   "source": [
    "odd_nums = np.arange(1, 101, 2)\n",
    "odd_nums = np.reshape(odd_nums, (5,10))\n",
    "\n",
    "print(odd_nums)"
   ]
  },
  {
   "cell_type": "markdown",
   "metadata": {},
   "source": [
    "**TASK-1E:** Please provide a linear space for your data visualization that will be for the point scale for grading from 0 to 100 (included) and the inc value is 0.5\n"
   ]
  },
  {
   "cell_type": "code",
   "execution_count": 7,
   "metadata": {},
   "outputs": [
    {
     "name": "stdout",
     "output_type": "stream",
     "text": [
      "[  0.    0.5   1.    1.5   2.    2.5   3.    3.5   4.    4.5   5.    5.5\n",
      "   6.    6.5   7.    7.5   8.    8.5   9.    9.5  10.   10.5  11.   11.5\n",
      "  12.   12.5  13.   13.5  14.   14.5  15.   15.5  16.   16.5  17.   17.5\n",
      "  18.   18.5  19.   19.5  20.   20.5  21.   21.5  22.   22.5  23.   23.5\n",
      "  24.   24.5  25.   25.5  26.   26.5  27.   27.5  28.   28.5  29.   29.5\n",
      "  30.   30.5  31.   31.5  32.   32.5  33.   33.5  34.   34.5  35.   35.5\n",
      "  36.   36.5  37.   37.5  38.   38.5  39.   39.5  40.   40.5  41.   41.5\n",
      "  42.   42.5  43.   43.5  44.   44.5  45.   45.5  46.   46.5  47.   47.5\n",
      "  48.   48.5  49.   49.5  50.   50.5  51.   51.5  52.   52.5  53.   53.5\n",
      "  54.   54.5  55.   55.5  56.   56.5  57.   57.5  58.   58.5  59.   59.5\n",
      "  60.   60.5  61.   61.5  62.   62.5  63.   63.5  64.   64.5  65.   65.5\n",
      "  66.   66.5  67.   67.5  68.   68.5  69.   69.5  70.   70.5  71.   71.5\n",
      "  72.   72.5  73.   73.5  74.   74.5  75.   75.5  76.   76.5  77.   77.5\n",
      "  78.   78.5  79.   79.5  80.   80.5  81.   81.5  82.   82.5  83.   83.5\n",
      "  84.   84.5  85.   85.5  86.   86.5  87.   87.5  88.   88.5  89.   89.5\n",
      "  90.   90.5  91.   91.5  92.   92.5  93.   93.5  94.   94.5  95.   95.5\n",
      "  96.   96.5  97.   97.5  98.   98.5  99.   99.5 100. ]\n"
     ]
    }
   ],
   "source": [
    "linspace = np.linspace(0, 100, 201)\n",
    "\n",
    "print(linspace)"
   ]
  },
  {
   "cell_type": "markdown",
   "metadata": {},
   "source": [
    "**TASK-2A:**  Please use the reshape function to create a NumPy array of size 100 with 10 rows and 10 columns. Then you should split this array into 2, firstly horizontally(right/left) and then vertically(upper/down) based on the original array. Then please merge/join the upper array with itself.\n",
    "\n"
   ]
  },
  {
   "cell_type": "code",
   "execution_count": 8,
   "metadata": {},
   "outputs": [
    {
     "data": {
      "text/plain": [
       "array([[ 1,  2,  3,  4,  5],\n",
       "       [11, 12, 13, 14, 15],\n",
       "       [21, 22, 23, 24, 25],\n",
       "       [31, 32, 33, 34, 35],\n",
       "       [41, 42, 43, 44, 45],\n",
       "       [51, 52, 53, 54, 55],\n",
       "       [61, 62, 63, 64, 65],\n",
       "       [71, 72, 73, 74, 75],\n",
       "       [81, 82, 83, 84, 85],\n",
       "       [91, 92, 93, 94, 95],\n",
       "       [ 1,  2,  3,  4,  5],\n",
       "       [11, 12, 13, 14, 15],\n",
       "       [21, 22, 23, 24, 25],\n",
       "       [31, 32, 33, 34, 35],\n",
       "       [41, 42, 43, 44, 45],\n",
       "       [51, 52, 53, 54, 55],\n",
       "       [61, 62, 63, 64, 65],\n",
       "       [71, 72, 73, 74, 75],\n",
       "       [81, 82, 83, 84, 85],\n",
       "       [91, 92, 93, 94, 95]])"
      ]
     },
     "execution_count": 8,
     "metadata": {},
     "output_type": "execute_result"
    }
   ],
   "source": [
    "arr = np.arange(1, 101).reshape(10, 10)\n",
    "arr_horizontal = np.hsplit(arr, 2)\n",
    "arr_vertical = np.vsplit(arr, 2)\n",
    "np.concatenate((arr_horizontal[0], arr_horizontal[0]))"
   ]
  },
  {
   "cell_type": "markdown",
   "metadata": {},
   "source": [
    "**Task-2B:** Please create a 3-d array (with dimensions: 3, 4, 5) that is filled with random numbers between 1 and 100 with normal distribution then please determine the count of numbers that are higher than 75 using for/while loops. Mean : 50, Std: 15"
   ]
  },
  {
   "cell_type": "code",
   "execution_count": 9,
   "metadata": {
    "scrolled": true
   },
   "outputs": [
    {
     "name": "stdout",
     "output_type": "stream",
     "text": [
      "[77.23088059 83.30607242] 2\n"
     ]
    }
   ],
   "source": [
    "arr_3d = np.random.normal(50, 15, (3, 4, 5))\n",
    "\n",
    "higher_75 = np.array([])\n",
    "for i in range(len(arr_3d)):\n",
    "    for j in range(len(arr_3d[i])):\n",
    "        for k in range(len(arr_3d[i][j])):\n",
    "            if arr_3d[i][j][k] >= 75:\n",
    "                higher_75 = np.append(higher_75, arr_3d[i][j][k])\n",
    "                \n",
    "print(higher_75, len(higher_75))"
   ]
  },
  {
   "cell_type": "markdown",
   "metadata": {},
   "source": [
    "**Task-2C:** Please provide a function that will take an array of numbers and determine a number randomly among the array that is given. You can use any random functions in case of need"
   ]
  },
  {
   "cell_type": "code",
   "execution_count": 10,
   "metadata": {},
   "outputs": [
    {
     "data": {
      "text/plain": [
       "6"
      ]
     },
     "execution_count": 10,
     "metadata": {},
     "output_type": "execute_result"
    }
   ],
   "source": [
    "def random_num_of_array(arr):\n",
    "    return arr[np.random.randint(0, len(arr), (1,1))[0][0]]\n",
    "\n",
    "random_num_of_array([1, 2, 3, 4, 5, 6, 7, 8, 9, 10])"
   ]
  },
  {
   "cell_type": "markdown",
   "metadata": {},
   "source": [
    "**Task-2D:** Please get the dataset for president heights and please provide the plots as well as descriptive statistics (mean, std, min, max values). Please ensure that the data set is at the right location(folder) Optional: Please try to change the bin value which is a parameter for the hist function. The default value is 10. You can try 5 and 20."
   ]
  },
  {
   "cell_type": "code",
   "execution_count": 11,
   "metadata": {},
   "outputs": [
    {
     "data": {
      "text/html": [
       "<div>\n",
       "<style scoped>\n",
       "    .dataframe tbody tr th:only-of-type {\n",
       "        vertical-align: middle;\n",
       "    }\n",
       "\n",
       "    .dataframe tbody tr th {\n",
       "        vertical-align: top;\n",
       "    }\n",
       "\n",
       "    .dataframe thead th {\n",
       "        text-align: right;\n",
       "    }\n",
       "</style>\n",
       "<table border=\"1\" class=\"dataframe\">\n",
       "  <thead>\n",
       "    <tr style=\"text-align: right;\">\n",
       "      <th></th>\n",
       "      <th>order</th>\n",
       "      <th>name</th>\n",
       "      <th>height(cm)</th>\n",
       "    </tr>\n",
       "  </thead>\n",
       "  <tbody>\n",
       "    <tr>\n",
       "      <th>0</th>\n",
       "      <td>1</td>\n",
       "      <td>George Washington</td>\n",
       "      <td>189</td>\n",
       "    </tr>\n",
       "    <tr>\n",
       "      <th>1</th>\n",
       "      <td>2</td>\n",
       "      <td>John Adams</td>\n",
       "      <td>170</td>\n",
       "    </tr>\n",
       "    <tr>\n",
       "      <th>2</th>\n",
       "      <td>3</td>\n",
       "      <td>Thomas Jefferson</td>\n",
       "      <td>189</td>\n",
       "    </tr>\n",
       "    <tr>\n",
       "      <th>3</th>\n",
       "      <td>4</td>\n",
       "      <td>James Madison</td>\n",
       "      <td>163</td>\n",
       "    </tr>\n",
       "    <tr>\n",
       "      <th>4</th>\n",
       "      <td>5</td>\n",
       "      <td>James Monroe</td>\n",
       "      <td>183</td>\n",
       "    </tr>\n",
       "  </tbody>\n",
       "</table>\n",
       "</div>"
      ],
      "text/plain": [
       "   order               name  height(cm)\n",
       "0      1  George Washington         189\n",
       "1      2         John Adams         170\n",
       "2      3   Thomas Jefferson         189\n",
       "3      4      James Madison         163\n",
       "4      5       James Monroe         183"
      ]
     },
     "execution_count": 11,
     "metadata": {},
     "output_type": "execute_result"
    }
   ],
   "source": [
    "df = pd.read_csv(\"president_heights_new.csv\")\n",
    "df.head()"
   ]
  },
  {
   "cell_type": "code",
   "execution_count": 12,
   "metadata": {},
   "outputs": [],
   "source": [
    "order = np.array(df[\"order\"])\n",
    "heights = np.array(df[\"height(cm)\"])"
   ]
  },
  {
   "cell_type": "code",
   "execution_count": 13,
   "metadata": {},
   "outputs": [
    {
     "data": {
      "text/plain": [
       "Text(0.5, 1.0, 'President Heights')"
      ]
     },
     "execution_count": 13,
     "metadata": {},
     "output_type": "execute_result"
    },
    {
     "data": {
      "image/png": "[encoded data removed]",
      "text/plain": [
       "<Figure size 432x288 with 1 Axes>"
      ]
     },
     "metadata": {},
     "output_type": "display_data"
    }
   ],
   "source": [
    "plt.plot(order, heights)\n",
    "plt.title(\"President Heights\")"
   ]
  },
  {
   "cell_type": "code",
   "execution_count": 14,
   "metadata": {},
   "outputs": [
    {
     "name": "stdout",
     "output_type": "stream",
     "text": [
      "Mean: 179.93023255813952\n",
      "Standard Deviation: 6.963009736965726\n",
      "Minimum Height:  163\n",
      "Maximum Height:  193\n"
     ]
    }
   ],
   "source": [
    "print(\"Mean:\", heights.mean())\n",
    "print(\"Standard Deviation:\", heights.std())\n",
    "print(\"Minimum Height: \", heights.min())\n",
    "print(\"Maximum Height: \", heights.max())"
   ]
  },
  {
   "cell_type": "markdown",
   "metadata": {},
   "source": [
    "**Task-2E:** Please use the sample dataset (california_housing_train.csv) and please focus on the median_income column/feature. Then please present the descriptive statistics as well as the histogram plot of this feature. Hint: The dataset is in the Google Colab sample_data folder."
   ]
  },
  {
   "cell_type": "code",
   "execution_count": 15,
   "metadata": {},
   "outputs": [
    {
     "data": {
      "text/html": [
       "<div>\n",
       "<style scoped>\n",
       "    .dataframe tbody tr th:only-of-type {\n",
       "        vertical-align: middle;\n",
       "    }\n",
       "\n",
       "    .dataframe tbody tr th {\n",
       "        vertical-align: top;\n",
       "    }\n",
       "\n",
       "    .dataframe thead th {\n",
       "        text-align: right;\n",
       "    }\n",
       "</style>\n",
       "<table border=\"1\" class=\"dataframe\">\n",
       "  <thead>\n",
       "    <tr style=\"text-align: right;\">\n",
       "      <th></th>\n",
       "      <th>longitude</th>\n",
       "      <th>latitude</th>\n",
       "      <th>housing_median_age</th>\n",
       "      <th>total_rooms</th>\n",
       "      <th>total_bedrooms</th>\n",
       "      <th>population</th>\n",
       "      <th>households</th>\n",
       "      <th>median_income</th>\n",
       "      <th>median_house_value</th>\n",
       "    </tr>\n",
       "  </thead>\n",
       "  <tbody>\n",
       "    <tr>\n",
       "      <th>0</th>\n",
       "      <td>-114.31</td>\n",
       "      <td>34.19</td>\n",
       "      <td>15.0</td>\n",
       "      <td>5612.0</td>\n",
       "      <td>1283.0</td>\n",
       "      <td>1015.0</td>\n",
       "      <td>472.0</td>\n",
       "      <td>1.4936</td>\n",
       "      <td>66900.0</td>\n",
       "    </tr>\n",
       "    <tr>\n",
       "      <th>1</th>\n",
       "      <td>-114.47</td>\n",
       "      <td>34.40</td>\n",
       "      <td>19.0</td>\n",
       "      <td>7650.0</td>\n",
       "      <td>1901.0</td>\n",
       "      <td>1129.0</td>\n",
       "      <td>463.0</td>\n",
       "      <td>1.8200</td>\n",
       "      <td>80100.0</td>\n",
       "    </tr>\n",
       "    <tr>\n",
       "      <th>2</th>\n",
       "      <td>-114.56</td>\n",
       "      <td>33.69</td>\n",
       "      <td>17.0</td>\n",
       "      <td>720.0</td>\n",
       "      <td>174.0</td>\n",
       "      <td>333.0</td>\n",
       "      <td>117.0</td>\n",
       "      <td>1.6509</td>\n",
       "      <td>85700.0</td>\n",
       "    </tr>\n",
       "    <tr>\n",
       "      <th>3</th>\n",
       "      <td>-114.57</td>\n",
       "      <td>33.64</td>\n",
       "      <td>14.0</td>\n",
       "      <td>1501.0</td>\n",
       "      <td>337.0</td>\n",
       "      <td>515.0</td>\n",
       "      <td>226.0</td>\n",
       "      <td>3.1917</td>\n",
       "      <td>73400.0</td>\n",
       "    </tr>\n",
       "    <tr>\n",
       "      <th>4</th>\n",
       "      <td>-114.57</td>\n",
       "      <td>33.57</td>\n",
       "      <td>20.0</td>\n",
       "      <td>1454.0</td>\n",
       "      <td>326.0</td>\n",
       "      <td>624.0</td>\n",
       "      <td>262.0</td>\n",
       "      <td>1.9250</td>\n",
       "      <td>65500.0</td>\n",
       "    </tr>\n",
       "  </tbody>\n",
       "</table>\n",
       "</div>"
      ],
      "text/plain": [
       "   longitude  latitude  housing_median_age  total_rooms  total_bedrooms  \\\n",
       "0    -114.31     34.19                15.0       5612.0          1283.0   \n",
       "1    -114.47     34.40                19.0       7650.0          1901.0   \n",
       "2    -114.56     33.69                17.0        720.0           174.0   \n",
       "3    -114.57     33.64                14.0       1501.0           337.0   \n",
       "4    -114.57     33.57                20.0       1454.0           326.0   \n",
       "\n",
       "   population  households  median_income  median_house_value  \n",
       "0      1015.0       472.0         1.4936             66900.0  \n",
       "1      1129.0       463.0         1.8200             80100.0  \n",
       "2       333.0       117.0         1.6509             85700.0  \n",
       "3       515.0       226.0         3.1917             73400.0  \n",
       "4       624.0       262.0         1.9250             65500.0  "
      ]
     },
     "execution_count": 15,
     "metadata": {},
     "output_type": "execute_result"
    }
   ],
   "source": [
    "df = pd.read_csv(\"california_housing_train.csv\")\n",
    "df.head()"
   ]
  },
  {
   "cell_type": "code",
   "execution_count": 16,
   "metadata": {},
   "outputs": [
    {
     "data": {
      "text/plain": [
       "array([1.4936, 1.82  , 1.6509, ..., 3.0313, 1.9797, 3.0147])"
      ]
     },
     "execution_count": 16,
     "metadata": {},
     "output_type": "execute_result"
    }
   ],
   "source": [
    "median_income = np.array(df[\"median_income\"])\n",
    "median_income"
   ]
  },
  {
   "cell_type": "code",
   "execution_count": 17,
   "metadata": {},
   "outputs": [
    {
     "data": {
      "text/plain": [
       "(array([1833., 6100., 5020., 2466.,  891.,  368.,  152.,   79.,   42.,\n",
       "          49.]),\n",
       " array([ 0.4999 ,  1.94992,  3.39994,  4.84996,  6.29998,  7.75   ,\n",
       "         9.20002, 10.65004, 12.10006, 13.55008, 15.0001 ]),\n",
       " <BarContainer object of 10 artists>)"
      ]
     },
     "execution_count": 17,
     "metadata": {},
     "output_type": "execute_result"
    },
    {
     "data": {
      "image/png": "[encoded data removed]",
      "text/plain": [
       "<Figure size 432x288 with 1 Axes>"
      ]
     },
     "metadata": {},
     "output_type": "display_data"
    }
   ],
   "source": [
    "plt.hist(median_income)"
   ]
  },
  {
   "cell_type": "code",
   "execution_count": 18,
   "metadata": {},
   "outputs": [
    {
     "name": "stdout",
     "output_type": "stream",
     "text": [
      "Mean: 3.8835781000000007\n",
      "Standard Deviation: 1.9081003953032116\n",
      "Minimum:  0.4999\n",
      "Maximum:  15.0001\n"
     ]
    }
   ],
   "source": [
    "print(\"Mean:\", median_income.mean())\n",
    "print(\"Standard Deviation:\", median_income.std())\n",
    "print(\"Minimum: \", median_income.min())\n",
    "print(\"Maximum: \", median_income.max())"
   ]
  },
  {
   "cell_type": "markdown",
   "metadata": {},
   "source": [
    "**TASK-2F:** Please generate a random 1D NumPy array of size 100 full of random integers. Please find the general average and determine the indices that are higher than the average value.\n"
   ]
  },
  {
   "cell_type": "code",
   "execution_count": 19,
   "metadata": {},
   "outputs": [
    {
     "name": "stdout",
     "output_type": "stream",
     "text": [
      "The original list :\n",
      " [25 66 39 53  5 53  8 59 47 31 80 62 42 21 92 13 32 33 62 77 98 48 74 37\n",
      " 40 41 80 73 69 83 59 71 70 67  4 87 78 70 40 76 19 49 46 69 11 63 33 25\n",
      "  8 22 71 10 10 98  4 35 26 48 39 39 49 60 26 49 76 72 62  4 66 95 24 77\n",
      " 21 92  5 31 70 32 19 58 94 94 44 30 72 78 27 34 62 60 15  9 58 69 45 37\n",
      " 50 16 69 77]\n",
      "\n",
      "The list of indices greater than 49.18 :\n",
      " [1, 3, 5, 7, 10, 11, 14, 18, 19, 20, 22, 26, 27, 28, 29, 30, 31, 32, 33, 35, 36, 37, 39, 43, 45, 50, 53, 61, 64, 65, 66, 68, 69, 71, 73, 76, 79, 80, 81, 84, 85, 88, 89, 92, 93, 96, 98, 99]\n"
     ]
    }
   ],
   "source": [
    "arr = np.random.randint(1, 100, 100)\n",
    "print(\"The original list :\\n\", arr)\n",
    "\n",
    "res = []\n",
    "for i in range(0, len(arr)) :\n",
    "    if arr[i] > arr.mean():\n",
    "        res.append(i)\n",
    "  \n",
    "print(\"\\nThe list of indices greater than\", arr.mean(), \":\\n\", res)"
   ]
  },
  {
   "cell_type": "markdown",
   "metadata": {},
   "source": [
    "**TASK-2G:** Please develop a histogram with two separate methods that we have covered during the online class. You need to provide a random dataset with a normal distribution (mean=70, std = 15, number of bins= 10, case count = 1000)."
   ]
  },
  {
   "cell_type": "code",
   "execution_count": 20,
   "metadata": {},
   "outputs": [],
   "source": [
    "np.random.seed(41)\n",
    "data = np.random.normal(70, 15, 1000)"
   ]
  },
  {
   "cell_type": "code",
   "execution_count": 21,
   "metadata": {},
   "outputs": [
    {
     "data": {
      "image/png": "[encoded data removed]",
      "text/plain": [
       "<Figure size 432x288 with 1 Axes>"
      ]
     },
     "metadata": {},
     "output_type": "display_data"
    }
   ],
   "source": [
    "plt.hist(data, 10)\n",
    "plt.show()"
   ]
  },
  {
   "cell_type": "code",
   "execution_count": 22,
   "metadata": {},
   "outputs": [
    {
     "data": {
      "image/png": "[encoded data removed]",
      "text/plain": [
       "<Figure size 432x288 with 1 Axes>"
      ]
     },
     "metadata": {},
     "output_type": "display_data"
    }
   ],
   "source": [
    "plt.hist(data, 10, histtype='step')\n",
    "plt.show()"
   ]
  },
  {
   "cell_type": "markdown",
   "metadata": {},
   "source": [
    "**TASK-2H:** Please select a city in Turkey (or you can make up the dataset) and find the precipitation values in 2014. Then do the following operations for this dataset:\n",
    "\n",
    "- Number days without rain\n",
    "- Number days with rain\n",
    "- Days with more than 0.5 inches\n",
    "- Rainy days with < 0.2 inches\n",
    "- Mean precip on rainy days in 2014 (inches)\n",
    "- Mean precip on summer days in 2014 (inches)\n",
    "- Minimum precip on summer days in 2014 (inches)\n",
    "- Mean precip on non-summer rainy days (inches)\n",
    "- Median precip on rainy days in 2014 (inches)\n",
    "- Median precip on summer days in 2014 (inches)\n",
    "- Maximum precip on summer days in 2014 (inches)\n",
    "- Median precip on non-summer rainy days (inches)\n"
   ]
  },
  {
   "cell_type": "code",
   "execution_count": 23,
   "metadata": {},
   "outputs": [
    {
     "data": {
      "text/html": [
       "<div>\n",
       "<style scoped>\n",
       "    .dataframe tbody tr th:only-of-type {\n",
       "        vertical-align: middle;\n",
       "    }\n",
       "\n",
       "    .dataframe tbody tr th {\n",
       "        vertical-align: top;\n",
       "    }\n",
       "\n",
       "    .dataframe thead th {\n",
       "        text-align: right;\n",
       "    }\n",
       "</style>\n",
       "<table border=\"1\" class=\"dataframe\">\n",
       "  <thead>\n",
       "    <tr style=\"text-align: right;\">\n",
       "      <th></th>\n",
       "      <th>DateTime</th>\n",
       "      <th>Condition</th>\n",
       "      <th>Rain</th>\n",
       "      <th>MaxTemp</th>\n",
       "      <th>MinTemp</th>\n",
       "      <th>SunRise</th>\n",
       "      <th>SunSet</th>\n",
       "      <th>MoonRise</th>\n",
       "      <th>MoonSet</th>\n",
       "      <th>AvgWind</th>\n",
       "      <th>AvgHumidity</th>\n",
       "      <th>AvgPressure</th>\n",
       "    </tr>\n",
       "  </thead>\n",
       "  <tbody>\n",
       "    <tr>\n",
       "      <th>1706</th>\n",
       "      <td>31.12.2014</td>\n",
       "      <td>Overcast</td>\n",
       "      <td>4.29</td>\n",
       "      <td>6</td>\n",
       "      <td>5</td>\n",
       "      <td>08:29:00</td>\n",
       "      <td>17:46:00</td>\n",
       "      <td>14:24:00</td>\n",
       "      <td>3:33:00</td>\n",
       "      <td>56</td>\n",
       "      <td>85</td>\n",
       "      <td>1018</td>\n",
       "    </tr>\n",
       "    <tr>\n",
       "      <th>1707</th>\n",
       "      <td>30.12.2014</td>\n",
       "      <td>Overcast</td>\n",
       "      <td>3.30</td>\n",
       "      <td>4</td>\n",
       "      <td>3</td>\n",
       "      <td>08:29:00</td>\n",
       "      <td>17:45:00</td>\n",
       "      <td>13:47:00</td>\n",
       "      <td>2:28:00</td>\n",
       "      <td>44</td>\n",
       "      <td>84</td>\n",
       "      <td>1019</td>\n",
       "    </tr>\n",
       "    <tr>\n",
       "      <th>1708</th>\n",
       "      <td>29.12.2014</td>\n",
       "      <td>Thundery outbreaks possible</td>\n",
       "      <td>1.41</td>\n",
       "      <td>12</td>\n",
       "      <td>3</td>\n",
       "      <td>08:28:00</td>\n",
       "      <td>17:44:00</td>\n",
       "      <td>13:11:00</td>\n",
       "      <td>1:22:00</td>\n",
       "      <td>35</td>\n",
       "      <td>79</td>\n",
       "      <td>1007</td>\n",
       "    </tr>\n",
       "    <tr>\n",
       "      <th>1709</th>\n",
       "      <td>28.12.2014</td>\n",
       "      <td>Partly cloudy</td>\n",
       "      <td>0.00</td>\n",
       "      <td>11</td>\n",
       "      <td>4</td>\n",
       "      <td>08:28:00</td>\n",
       "      <td>17:43:00</td>\n",
       "      <td>0:36:00</td>\n",
       "      <td>12:13:00</td>\n",
       "      <td>14</td>\n",
       "      <td>67</td>\n",
       "      <td>1014</td>\n",
       "    </tr>\n",
       "    <tr>\n",
       "      <th>1710</th>\n",
       "      <td>27.12.2014</td>\n",
       "      <td>Partly cloudy</td>\n",
       "      <td>0.59</td>\n",
       "      <td>10</td>\n",
       "      <td>6</td>\n",
       "      <td>08:28:00</td>\n",
       "      <td>17:43:00</td>\n",
       "      <td>0:1:00</td>\n",
       "      <td>NaN</td>\n",
       "      <td>18</td>\n",
       "      <td>83</td>\n",
       "      <td>1009</td>\n",
       "    </tr>\n",
       "  </tbody>\n",
       "</table>\n",
       "</div>"
      ],
      "text/plain": [
       "        DateTime                    Condition  Rain  MaxTemp  MinTemp  \\\n",
       "1706  31.12.2014                     Overcast  4.29        6        5   \n",
       "1707  30.12.2014                     Overcast  3.30        4        3   \n",
       "1708  29.12.2014  Thundery outbreaks possible  1.41       12        3   \n",
       "1709  28.12.2014                Partly cloudy  0.00       11        4   \n",
       "1710  27.12.2014                Partly cloudy  0.59       10        6   \n",
       "\n",
       "       SunRise    SunSet  MoonRise   MoonSet  AvgWind  AvgHumidity  \\\n",
       "1706  08:29:00  17:46:00  14:24:00   3:33:00       56           85   \n",
       "1707  08:29:00  17:45:00  13:47:00   2:28:00       44           84   \n",
       "1708  08:28:00  17:44:00  13:11:00   1:22:00       35           79   \n",
       "1709  08:28:00  17:43:00   0:36:00  12:13:00       14           67   \n",
       "1710  08:28:00  17:43:00    0:1:00       NaN       18           83   \n",
       "\n",
       "      AvgPressure  \n",
       "1706         1018  \n",
       "1707         1019  \n",
       "1708         1007  \n",
       "1709         1014  \n",
       "1710         1009  "
      ]
     },
     "execution_count": 23,
     "metadata": {},
     "output_type": "execute_result"
    }
   ],
   "source": [
    "df = pd.read_csv(\"Istanbul Weather Data.csv\")\n",
    "df_2014 = df[1706:2071]\n",
    "df_2014.head()"
   ]
  },
  {
   "cell_type": "code",
   "execution_count": 24,
   "metadata": {},
   "outputs": [],
   "source": [
    "rainfall = df_2014[\"Rain\"].values"
   ]
  },
  {
   "cell_type": "code",
   "execution_count": 25,
   "metadata": {
    "scrolled": true
   },
   "outputs": [
    {
     "data": {
      "text/plain": [
       "(array([232.,  39.,  21.,  10.,  13.,  12.,   6.,   7.,   1.,   3.,   1.,\n",
       "          2.,   1.,   7.,   1.,   1.,   1.,   0.,   0.,   1.,   1.,   1.,\n",
       "          1.,   0.,   0.,   0.,   0.,   0.,   0.,   0.,   0.,   0.,   1.,\n",
       "          0.,   0.,   1.,   0.,   0.,   0.,   1.]),\n",
       " array([ 0.  ,  0.47,  0.94,  1.41,  1.88,  2.35,  2.82,  3.29,  3.76,\n",
       "         4.23,  4.7 ,  5.17,  5.64,  6.11,  6.58,  7.05,  7.52,  7.99,\n",
       "         8.46,  8.93,  9.4 ,  9.87, 10.34, 10.81, 11.28, 11.75, 12.22,\n",
       "        12.69, 13.16, 13.63, 14.1 , 14.57, 15.04, 15.51, 15.98, 16.45,\n",
       "        16.92, 17.39, 17.86, 18.33, 18.8 ]),\n",
       " <BarContainer object of 40 artists>)"
      ]
     },
     "execution_count": 25,
     "metadata": {},
     "output_type": "execute_result"
    },
    {
     "data": {
      "image/png": "[encoded data removed]",
      "text/plain": [
       "<Figure size 432x288 with 1 Axes>"
      ]
     },
     "metadata": {},
     "output_type": "display_data"
    }
   ],
   "source": [
    "plt.hist(rainfall, 40)"
   ]
  },
  {
   "cell_type": "code",
   "execution_count": 26,
   "metadata": {},
   "outputs": [],
   "source": [
    "no_rain = rainfall[rainfall == 0]\n",
    "rainy = rainfall[rainfall != 0]\n",
    "df_2014_summer = df_2014[122:214]\n",
    "df_2014_non_summer = pd.concat([df_2014[0:122], df_2014[214:]])"
   ]
  },
  {
   "cell_type": "code",
   "execution_count": 27,
   "metadata": {
    "scrolled": true
   },
   "outputs": [
    {
     "name": "stdout",
     "output_type": "stream",
     "text": [
      "Number days without rain: 147\n",
      "Number days with rain: 218\n",
      "Days with more than 0.5 inches: 131\n",
      "Rainy days with < 0.2 inches: 68\n",
      "Mean precip on rainy days in 2014 (inches): 1.7175688073394493\n",
      "Mean precip on summer days in 2014 (inches) 0.8445652173913044\n",
      "Minimum precip on summer days in 2014 (inches): 0.0\n",
      "Mean precip on non-summer rainy days (inches): 1.0869230769230764\n",
      "Median precip on rainy days in 2014 (inches): 0.72\n",
      "Median precip on summer days in 2014 (inches): 0.01\n",
      "Maximum precip on summer days in 2014 (inches): 16.47\n",
      "Median precip on non-summer rainy days (inches): 0.11\n"
     ]
    }
   ],
   "source": [
    "print(\"Number days without rain:\", len(no_rain))\n",
    "\n",
    "print(\"Number days with rain:\", len(rainy))\n",
    "\n",
    "print(\"Days with more than 0.5 inches:\", len(rainfall[rainfall >= 0.5]))\n",
    "\n",
    "print(\"Rainy days with < 0.2 inches:\", len(rainy[rainy < 0.2]))\n",
    "\n",
    "print(\"Mean precip on rainy days in 2014 (inches):\", rainy.mean())\n",
    "\n",
    "print(\"Mean precip on summer days in 2014 (inches)\", df_2014_summer[\"Rain\"].mean())\n",
    "\n",
    "print(\"Minimum precip on summer days in 2014 (inches):\", df_2014_summer[\"Rain\"].min())\n",
    "\n",
    "print(\"Mean precip on non-summer rainy days (inches):\", df_2014_non_summer[\"Rain\"].mean())\n",
    "\n",
    "print(\"Median precip on rainy days in 2014 (inches):\", np.median(rainy))\n",
    "\n",
    "print(\"Median precip on summer days in 2014 (inches):\", np.median(df_2014_summer[\"Rain\"]))\n",
    "\n",
    "print(\"Maximum precip on summer days in 2014 (inches):\", df_2014_summer[\"Rain\"].max())\n",
    "\n",
    "print(\"Median precip on non-summer rainy days (inches):\", np.median(df_2014_non_summer[\"Rain\"]))"
   ]
  }
 ],
 "metadata": {
  "kernelspec": {
   "display_name": "Python 3",
   "language": "python",
   "name": "python3"
  },
  "language_info": {
   "codemirror_mode": {
    "name": "ipython",
    "version": 3
   },
   "file_extension": ".py",
   "mimetype": "text/x-python",
   "name": "python",
   "nbconvert_exporter": "python",
   "pygments_lexer": "ipython3",
   "version": "3.8.5"
  }
 },
 "nbformat": 4,
 "nbformat_minor": 4
}
